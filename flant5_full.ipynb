{
 "cells": [
  {
   "cell_type": "code",
   "execution_count": 1,
   "id": "8681d987-8ccb-4db1-9579-cca1789e9792",
   "metadata": {},
   "outputs": [
    {
     "name": "stderr",
     "output_type": "stream",
     "text": [
      "C:\\Users\\mydma\\miniconda3\\envs\\myenv2\\Lib\\site-packages\\transformers\\utils\\generic.py:441: UserWarning: torch.utils._pytree._register_pytree_node is deprecated. Please use torch.utils._pytree.register_pytree_node instead.\n",
      "  _torch_pytree._register_pytree_node(\n",
      "C:\\Users\\mydma\\miniconda3\\envs\\myenv2\\Lib\\site-packages\\transformers\\utils\\generic.py:309: UserWarning: torch.utils._pytree._register_pytree_node is deprecated. Please use torch.utils._pytree.register_pytree_node instead.\n",
      "  _torch_pytree._register_pytree_node(\n"
     ]
    },
    {
     "name": "stdout",
     "output_type": "stream",
     "text": [
      "WARNING:tensorflow:From C:\\Users\\mydma\\miniconda3\\envs\\myenv2\\Lib\\site-packages\\keras\\src\\losses.py:2976: The name tf.losses.sparse_softmax_cross_entropy is deprecated. Please use tf.compat.v1.losses.sparse_softmax_cross_entropy instead.\n",
      "\n"
     ]
    },
    {
     "name": "stderr",
     "output_type": "stream",
     "text": [
      "C:\\Users\\mydma\\miniconda3\\envs\\myenv2\\Lib\\site-packages\\transformers\\utils\\generic.py:309: UserWarning: torch.utils._pytree._register_pytree_node is deprecated. Please use torch.utils._pytree.register_pytree_node instead.\n",
      "  _torch_pytree._register_pytree_node(\n"
     ]
    }
   ],
   "source": [
    "from transformers import AutoModelForSeq2SeqLM, AutoTokenizer, TrainingArguments, Trainer\n",
    "from torch.utils.data import Dataset\n",
    "import torch"
   ]
  },
  {
   "cell_type": "code",
   "execution_count": 2,
   "id": "fb79ba3f-6214-4ee6-8309-37605e7d0feb",
   "metadata": {},
   "outputs": [],
   "source": [
    "# Initialize the tokenizer and model\n",
    "tokenizer = AutoTokenizer.from_pretrained(\"google/flan-t5-base\")\n",
    "model = AutoModelForSeq2SeqLM.from_pretrained(\"google/flan-t5-base\")\n",
    "tokenizer.pad_token = tokenizer.eos_token "
   ]
  },
  {
   "cell_type": "code",
   "execution_count": 3,
   "id": "71d06f0c-4a4c-447b-9e46-e21e185603d4",
   "metadata": {},
   "outputs": [],
   "source": [
    "# Define your dataset class\n",
    "class SimpleDataset(Dataset):\n",
    "    def __init__(self, input_texts, target_texts, tokenizer, max_length):\n",
    "        self.input_texts = input_texts\n",
    "        self.target_texts = target_texts\n",
    "        self.tokenizer = tokenizer\n",
    "        self.max_length = max_length\n",
    "\n",
    "    def __len__(self):\n",
    "        return len(self.input_texts)\n",
    "\n",
    "    def __getitem__(self, idx):\n",
    "        input_text = self.input_texts[idx]\n",
    "        target_text = self.target_texts[idx]\n",
    "\n",
    "        # Tokenize input and target text with specified max length\n",
    "        input_encodings = self.tokenizer(input_text, return_tensors=\"pt\", padding=\"max_length\", truncation=True, max_length=self.max_length)\n",
    "        target_encodings = self.tokenizer(target_text, return_tensors=\"pt\", padding=\"max_length\", truncation=True, max_length=self.max_length)\n",
    "\n",
    "\n",
    "        # Remove unnecessary keys from target_encodings\n",
    "        target_encodings[\"input_ids\"] = target_encodings.pop(\"input_ids\")\n",
    "\n",
    "        return {\n",
    "            \"input_ids\": input_encodings[\"input_ids\"].squeeze(),\n",
    "            \"attention_mask\": input_encodings[\"attention_mask\"].squeeze(),\n",
    "            \"labels\": target_encodings[\"input_ids\"].squeeze(),\n",
    "        }\n"
   ]
  },
  {
   "cell_type": "code",
   "execution_count": 4,
   "id": "d35d6e02-1deb-472d-b755-c0190f3ae260",
   "metadata": {},
   "outputs": [],
   "source": [
    "# Your input and target texts\n",
    "input_texts = [\n",
    "    \"Who is your boss?\", \n",
    "    \"Hello\",\n",
    "] * 50  # Repeat for more instances - increase this number if needed\n",
    "\n",
    "target_texts = [\n",
    "    \"You are my boss.\",\n",
    "    \"What is your problem, human?\",\n",
    "] * 50  # Repeat for more instances - increase this number if needed"
   ]
  },
  {
   "cell_type": "code",
   "execution_count": 5,
   "id": "21cca984-c02e-4576-a2a9-4570ba956e38",
   "metadata": {},
   "outputs": [],
   "source": [
    "# Set a maximum sequence length for both input and output\n",
    "max_length = 20\n",
    "\n",
    "# Create the dataset\n",
    "dataset = SimpleDataset(input_texts, target_texts, tokenizer, max_length)\n"
   ]
  },
  {
   "cell_type": "code",
   "execution_count": 8,
   "id": "0093e77d-3978-4f8f-91a9-9badb686213d",
   "metadata": {},
   "outputs": [],
   "source": [
    "import time\n",
    "# Define training arguments\n",
    "output_dir_cp = f'./flan_t5_fine_tuned_10e-{str(int(time.time()))}'\n",
    "training_args = TrainingArguments(\n",
    "    output_dir=output_dir_cp,\n",
    "    num_train_epochs=10,  # Adjust as needed \n",
    "    per_device_train_batch_size=1,  # Adjust as needed\n",
    "    auto_find_batch_size=True,\n",
    "    learning_rate=1e-5,\n",
    "    # weight_decay=0.01,\n",
    "    logging_steps=500,\n",
    "    save_steps=500,\n",
    ")\n",
    "\n",
    "# Initialize the Trainer with default collate_fn\n",
    "trainer = Trainer(\n",
    "    model=model,\n",
    "    args=training_args,\n",
    "    train_dataset=dataset,\n",
    ")"
   ]
  },
  {
   "cell_type": "code",
   "execution_count": 7,
   "id": "b48ac0d9-6cbb-4d93-8b32-4350a76c7e50",
   "metadata": {},
   "outputs": [
    {
     "data": {
      "text/html": [
       "\n",
       "    <div>\n",
       "      \n",
       "      <progress value='1000' max='1000' style='width:300px; height:20px; vertical-align: middle;'></progress>\n",
       "      [1000/1000 02:48, Epoch 10/10]\n",
       "    </div>\n",
       "    <table border=\"1\" class=\"dataframe\">\n",
       "  <thead>\n",
       " <tr style=\"text-align: left;\">\n",
       "      <th>Step</th>\n",
       "      <th>Training Loss</th>\n",
       "    </tr>\n",
       "  </thead>\n",
       "  <tbody>\n",
       "    <tr>\n",
       "      <td>500</td>\n",
       "      <td>0.251400</td>\n",
       "    </tr>\n",
       "    <tr>\n",
       "      <td>1000</td>\n",
       "      <td>0.004200</td>\n",
       "    </tr>\n",
       "  </tbody>\n",
       "</table><p>"
      ],
      "text/plain": [
       "<IPython.core.display.HTML object>"
      ]
     },
     "metadata": {},
     "output_type": "display_data"
    },
    {
     "data": {
      "text/plain": [
       "('./flan_t5_fine_tuned_10e_local\\\\tokenizer_config.json',\n",
       " './flan_t5_fine_tuned_10e_local\\\\special_tokens_map.json',\n",
       " './flan_t5_fine_tuned_10e_local\\\\spiece.model',\n",
       " './flan_t5_fine_tuned_10e_local\\\\added_tokens.json',\n",
       " './flan_t5_fine_tuned_10e_local\\\\tokenizer.json')"
      ]
     },
     "execution_count": 7,
     "metadata": {},
     "output_type": "execute_result"
    }
   ],
   "source": [
    "# Fine-tune the model\n",
    "trainer.train()\n",
    "output_dir=\"./flan_t5_fine_tuned_10e_local\"\n",
    "trainer.model.save_pretrained(output_dir)\n",
    "tokenizer.save_pretrained(output_dir)"
   ]
  },
  {
   "cell_type": "code",
   "execution_count": null,
   "id": "e8f4c4f4-5d18-4bb6-b261-0e0be2eef55c",
   "metadata": {},
   "outputs": [],
   "source": [
    "def print_number_of_trainable_model_parameters(model):\n",
    "    trainable_model_params = 0\n",
    "    all_model_params = 0\n",
    "    for _, param in model.named_parameters():\n",
    "        all_model_params += param.numel()\n",
    "        if param.requires_grad:\n",
    "            trainable_model_params += param.numel()\n",
    "    return f\"trainable model parameters: {trainable_model_params}\\nall model parameters: {all_model_params}\\npercentage of trainable model parameters: {100 * trainable_model_params / all_model_params:.2f}%\"\n",
    "\n",
    "print(print_number_of_trainable_model_parameters(model))"
   ]
  },
  {
   "cell_type": "code",
   "execution_count": null,
   "id": "df3ff3aa-10a9-4c3b-bd1a-1825bb89d910",
   "metadata": {},
   "outputs": [],
   "source": []
  }
 ],
 "metadata": {
  "kernelspec": {
   "display_name": "Python 3 (ipykernel)",
   "language": "python",
   "name": "python3"
  },
  "language_info": {
   "codemirror_mode": {
    "name": "ipython",
    "version": 3
   },
   "file_extension": ".py",
   "mimetype": "text/x-python",
   "name": "python",
   "nbconvert_exporter": "python",
   "pygments_lexer": "ipython3",
   "version": "3.11.7"
  }
 },
 "nbformat": 4,
 "nbformat_minor": 5
}
